{
 "cells": [
  {
   "cell_type": "code",
   "execution_count": 1,
   "metadata": {},
   "outputs": [],
   "source": [
    "import data\n",
    "import numpy as np\n",
    "import matplotlib.pyplot as plt\n",
    "from scipy.stats import multivariate_normal\n",
    "from scipy.special import logsumexp"
   ]
  },
  {
   "cell_type": "code",
   "execution_count": 2,
   "metadata": {},
   "outputs": [],
   "source": [
    "train_data, train_labels, test_data, test_labels = data.load_all_data_from_zip('a4digits.zip', 'data')\n",
    "accuracy = lambda predicted_labels, actual_labels: sum(predicted_labels == actual_labels) / len(actual_labels)"
   ]
  },
  {
   "cell_type": "markdown",
   "metadata": {},
   "source": [
    "## Bernoulli Naive Bayes"
   ]
  },
  {
   "cell_type": "code",
   "execution_count": 10,
   "metadata": {},
   "outputs": [],
   "source": [
    "def binarize_data(pixel_values):\n",
    "    '''\n",
    "    Binarize the data by thresholding around 0.5\n",
    "    '''\n",
    "    return np.where(pixel_values > 0.5, 1.0, 0.0)\n",
    "\n",
    "def compute_parameters(train_data, train_labels):\n",
    "    '''\n",
    "    Compute the eta MAP estimate/MLE with augmented data\n",
    "\n",
    "    You should return a numpy array of shape (10, 64)\n",
    "    where the ith row corresponds to the ith digit class.\n",
    "    '''\n",
    "    eta = [(train_data[train_labels==i].sum(axis=0) + 1) / (len(train_data[train_labels==i]) + 1) for i in range(10)]\n",
    "    return np.array(eta)\n",
    "\n",
    "def plot_images(class_images):\n",
    "    '''\n",
    "    Plot each of the images corresponding to each class side by side in grayscale\n",
    "    '''\n",
    "    all_concat = np.concatenate([class_k.reshape((8, 8)) for class_k in class_images], 1)\n",
    "    plt.imshow(all_concat, cmap='gray')\n",
    "    plt.show()\n",
    "\n",
    "def generate_new_data(eta):\n",
    "    '''\n",
    "    Sample a new data point from your generative distribution p(x|y,theta) for\n",
    "    each value of y in the range 0...10\n",
    "\n",
    "    Plot these values\n",
    "    '''\n",
    "    generated_data = np.random.binomial(1, eta)\n",
    "    plot_images(generated_data)\n",
    "\n",
    "def generative_likelihood(bin_digits, eta):\n",
    "    '''\n",
    "    Compute the generative log-likelihood:\n",
    "        log p(x|y, eta)\n",
    "\n",
    "    Should return an n x 10 numpy array \n",
    "    '''\n",
    "    return np.array([[np.sum(np.log(np.where(datum == 1, k_eta, 1 - k_eta))) for k_eta in eta] \n",
    "                     for datum in bin_digits])\n",
    "    \n",
    "\n",
    "def conditional_likelihood(bin_digits, eta):\n",
    "    '''\n",
    "    Compute the conditional likelihood:\n",
    "\n",
    "        log p(y|x, eta)\n",
    "\n",
    "    This should be a numpy array of shape (n, 10)\n",
    "    Where n is the number of datapoints and 10 corresponds to each digit class\n",
    "    '''\n",
    "    generative_likelihoods = generative_likelihood(bin_digits, eta)\n",
    "    posterior = generative_likelihoods - logsumexp(generative_likelihoods, axis=1).reshape((len(bin_digits), 1))        \n",
    "    return posterior\n",
    "\n",
    "def avg_conditional_likelihood(bin_digits, labels, eta):\n",
    "    '''\n",
    "    Compute the average conditional likelihood over the true class labels\n",
    "\n",
    "        AVG( log p(y_i|x_i, eta) )\n",
    "\n",
    "    i.e. the average log likelihood that the model assigns to the correct class label\n",
    "    '''\n",
    "    cond_likelihood = conditional_likelihood(bin_digits, eta)\n",
    "    true_class_likelihoods = []\n",
    "    for i, likelihoods in enumerate(cond_likelihood):\n",
    "        true_class_likelihoods.append(likelihoods[int(labels[i])])\n",
    "    return np.array(true_class_likelihoods).mean()\n",
    "\n",
    "def classify_data(bin_digits, eta):\n",
    "    '''\n",
    "    Classify new points by taking the most likely posterior class\n",
    "    '''\n",
    "    cond_likelihood = conditional_likelihood(bin_digits, eta)\n",
    "    # Compute and return the most likely class\n",
    "    return np.array([np.argmax(cl) for cl in cond_likelihood])"
   ]
  },
  {
   "cell_type": "code",
   "execution_count": 11,
   "metadata": {},
   "outputs": [],
   "source": [
    "train_data, test_data = binarize_data(train_data), binarize_data(test_data)"
   ]
  },
  {
   "cell_type": "code",
   "execution_count": 12,
   "metadata": {},
   "outputs": [],
   "source": [
    "# Fitting the model\n",
    "eta = compute_parameters(train_data, train_labels)"
   ]
  },
  {
   "cell_type": "code",
   "execution_count": 13,
   "metadata": {},
   "outputs": [
    {
     "data": {
      "image/png": "[encoded data removed]",
      "text/plain": [
       "<Figure size 432x288 with 1 Axes>"
      ]
     },
     "metadata": {
      "needs_background": "light"
     },
     "output_type": "display_data"
    }
   ],
   "source": [
    "# visualizing the parameters\n",
    "plot_images(eta)"
   ]
  },
  {
   "cell_type": "markdown",
   "metadata": {},
   "source": [
    "### Generating and plotting a sample from the model"
   ]
  },
  {
   "cell_type": "code",
   "execution_count": 22,
   "metadata": {},
   "outputs": [
    {
     "data": {
      "image/png": "[encoded data removed]",
      "text/plain": [
       "<Figure size 432x288 with 1 Axes>"
      ]
     },
     "metadata": {
      "needs_background": "light"
     },
     "output_type": "display_data"
    }
   ],
   "source": [
    "generate_new_data(eta)"
   ]
  },
  {
   "cell_type": "markdown",
   "metadata": {},
   "source": [
    "### Average conditional likelihoods for the training and test data"
   ]
  },
  {
   "cell_type": "code",
   "execution_count": 23,
   "metadata": {},
   "outputs": [
    {
     "data": {
      "text/plain": [
       "-0.9444270335010504"
      ]
     },
     "execution_count": 23,
     "metadata": {},
     "output_type": "execute_result"
    }
   ],
   "source": [
    "avg_conditional_likelihood(train_data, train_labels, eta)"
   ]
  },
  {
   "cell_type": "code",
   "execution_count": 24,
   "metadata": {},
   "outputs": [
    {
     "data": {
      "text/plain": [
       "-0.9879978316003171"
      ]
     },
     "execution_count": 24,
     "metadata": {},
     "output_type": "execute_result"
    }
   ],
   "source": [
    "avg_conditional_likelihood(test_data, test_labels, eta)"
   ]
  },
  {
   "cell_type": "markdown",
   "metadata": {},
   "source": [
    "### Accuracy score for the training and test data"
   ]
  },
  {
   "cell_type": "code",
   "execution_count": 25,
   "metadata": {},
   "outputs": [
    {
     "data": {
      "text/plain": [
       "0.76425"
      ]
     },
     "execution_count": 25,
     "metadata": {},
     "output_type": "execute_result"
    }
   ],
   "source": [
    "predicted_test_labels = classify_data(test_data, eta)\n",
    "accuracy(predicted_test_labels, test_labels)"
   ]
  },
  {
   "cell_type": "code",
   "execution_count": 26,
   "metadata": {},
   "outputs": [
    {
     "data": {
      "text/plain": [
       "0.774"
      ]
     },
     "execution_count": 26,
     "metadata": {},
     "output_type": "execute_result"
    }
   ],
   "source": [
    "predicted_train_labels = classify_data(train_data, eta)\n",
    "accuracy(predicted_train_labels, train_labels)"
   ]
  }
 ],
 "metadata": {
  "kernelspec": {
   "display_name": "Python 3",
   "language": "python",
   "name": "python3"
  },
  "language_info": {
   "codemirror_mode": {
    "name": "ipython",
    "version": 3
   },
   "file_extension": ".py",
   "mimetype": "text/x-python",
   "name": "python",
   "nbconvert_exporter": "python",
   "pygments_lexer": "ipython3",
   "version": "3.7.3"
  }
 },
 "nbformat": 4,
 "nbformat_minor": 2
}
